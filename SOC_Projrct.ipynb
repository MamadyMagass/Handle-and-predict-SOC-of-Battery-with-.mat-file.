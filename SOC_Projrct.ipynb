{
 "cells": [
  {
   "cell_type": "markdown",
   "metadata": {
    "cell_id": "e84d63da7fe648c69e128f8e382bb234",
    "deepnote_cell_type": "text-cell-h2",
    "formattedRanges": [],
    "is_collapsed": false,
    "tags": []
   },
   "source": [
    "## Data cleaning"
   ]
  },
  {
   "cell_type": "code",
   "execution_count": 1,
   "metadata": {
    "cell_id": "86b06cdd866a4669b06633ee36be75d5",
    "deepnote_cell_type": "code",
    "deepnote_to_be_reexecuted": false,
    "execution_millis": 213,
    "execution_start": 1664201368662,
    "source_hash": "6a5ba005"
   },
   "outputs": [],
   "source": [
    "import pandas as pd\n",
    "import numpy as np\n",
    "#import seaborn as sns\n",
    "import scipy.io as sio"
   ]
  },
  {
   "cell_type": "code",
   "execution_count": 2,
   "metadata": {
    "cell_id": "01d386fe64e243efa423a70d63d5dca4",
    "deepnote_cell_type": "code",
    "deepnote_to_be_reexecuted": false,
    "execution_millis": 2813,
    "execution_start": 1664201368876,
    "source_hash": "dc13af1d"
   },
   "outputs": [],
   "source": [
    "mat = sio.loadmat(\"database\")"
   ]
  },
  {
   "cell_type": "code",
   "execution_count": 3,
   "metadata": {
    "cell_id": "93da1c18fc8440f3bd962db96afc6713",
    "deepnote_cell_type": "code",
    "deepnote_to_be_reexecuted": false,
    "execution_millis": 9,
    "execution_start": 1664201371691,
    "source_hash": "f646966d",
    "tags": []
   },
   "outputs": [
    {
     "name": "stdout",
     "output_type": "stream",
     "text": [
      "1\n",
      "1\n",
      "78\n",
      "1\n",
      "1\n",
      "4\n",
      "1\n",
      "1\n",
      "4\n",
      "2580\n",
      "1\n"
     ]
    }
   ],
   "source": [
    "x=mat['Cell1']\n",
    "for i in range(11):\n",
    "    print(len(x))\n",
    "    if i==2:\n",
    "        x=x[77]# we can move from 0 at 77 to verifie that the number of observation varies\n",
    "    else: \n",
    "        x=x[0]"
   ]
  },
  {
   "cell_type": "code",
   "execution_count": 4,
   "metadata": {
    "cell_id": "8c38d730978f4a3b81a0aca4e7963545",
    "deepnote_cell_type": "code",
    "deepnote_to_be_reexecuted": false,
    "execution_millis": 55,
    "execution_start": 1664201371702,
    "source_hash": "fd4aa35e"
   },
   "outputs": [],
   "source": [
    "cells = ['Cell1', 'Cell2', 'Cell3', 'Cell4', 'Cell5', 'Cell6', 'Cell7', 'Cell8'] # mat.keys()\n",
    "cycles = [c for c in str(mat[\"Cell1\"][0][0].dtype).split(\"'\") if \"cyc\" in c]\n",
    "types = ['C1ch', 'C1dc', 'OCVch', 'OCVdc'] # mat[\"Cell1\"][0][0][70].dtype\n",
    "cols = ['t', 'v', 'q', 'T'] "
   ]
  },
  {
   "cell_type": "code",
   "execution_count": 5,
   "metadata": {
    "cell_id": "aa6b25415f344b218ff8c5a26f6d0e29",
    "deepnote_cell_type": "code",
    "deepnote_to_be_reexecuted": false,
    "execution_millis": 54,
    "execution_start": 1664201371801,
    "source_hash": "bb0affd8"
   },
   "outputs": [],
   "source": [
    "def is_array(arr):\n",
    "    try:\n",
    "        _ = len(arr)\n",
    "        boul = True\n",
    "    except:\n",
    "        boul = False\n",
    "    return boul "
   ]
  },
  {
   "cell_type": "code",
   "execution_count": 6,
   "metadata": {
    "cell_id": "8f218df195d54e59a5476bc853ca8dfb",
    "deepnote_cell_type": "code",
    "deepnote_to_be_reexecuted": false,
    "execution_millis": 34,
    "execution_start": 1664201371855,
    "source_hash": "2be8bdae"
   },
   "outputs": [],
   "source": [
    "def inner_nest(arr):\n",
    "    if is_array(arr):\n",
    "        while is_array(arr) and len(arr) == 1:\n",
    "            arr = arr[0]\n",
    "    return arr "
   ]
  },
  {
   "cell_type": "code",
   "execution_count": 7,
   "metadata": {
    "cell_id": "e5dbfdac04794fd1b809014f7bc06b25",
    "deepnote_cell_type": "code",
    "deepnote_to_be_reexecuted": false,
    "execution_millis": 43,
    "execution_start": 1664201371890,
    "source_hash": "64182df9"
   },
   "outputs": [],
   "source": [
    "def nest(arr):\n",
    "    if not is_array(arr):\n",
    "        return arr\n",
    "    elif len(arr) == 1:\n",
    "        return nest(arr[0]) \n",
    "    else:\n",
    "        ls = [] \n",
    "        arr = inner_nest(arr)\n",
    "        for ar in arr:\n",
    "            ls.append(nest(ar)) \n",
    "        return ls\n"
   ]
  },
  {
   "cell_type": "code",
   "execution_count": 8,
   "metadata": {
    "cell_id": "ac3914b7ce3c4d9ea5bd02450009b931",
    "deepnote_cell_type": "code",
    "deepnote_to_be_reexecuted": false,
    "execution_millis": 72162,
    "execution_start": 1664201371934,
    "source_hash": "66a1f0c0"
   },
   "outputs": [],
   "source": [
    "data = []\n",
    "for cell in cells:\n",
    "    data.append(nest(mat[cell])) "
   ]
  },
  {
   "cell_type": "code",
   "execution_count": 9,
   "metadata": {
    "cell_id": "129bc097e07f4bfcb87e35892c3eb481",
    "deepnote_cell_type": "code",
    "deepnote_to_be_reexecuted": false,
    "execution_millis": 321,
    "execution_start": 1664201444138,
    "source_hash": "e25b9715"
   },
   "outputs": [
    {
     "data": {
      "text/plain": [
       "(8, 78, 4, 4, 3510)"
      ]
     },
     "execution_count": 9,
     "metadata": {},
     "output_type": "execute_result"
    }
   ],
   "source": [
    "len(data), len(data[0]), len(data[0][0]), len(data[0][0][0]), len(data[0][0][0][0]) "
   ]
  },
  {
   "cell_type": "code",
   "execution_count": 10,
   "metadata": {
    "cell_id": "372106d59e414baa8c6d1e5099a20246",
    "deepnote_cell_type": "code",
    "deepnote_to_be_reexecuted": false,
    "execution_millis": 6430,
    "execution_start": 1664201444139,
    "source_hash": "c1cfa4d3"
   },
   "outputs": [],
   "source": [
    "# cells, cycles, types, cols\n",
    "dfs = []\n",
    "for cell_id in range(len(cells)):\n",
    "    for cyc_id in range(len(data[cell_id])):\n",
    "        for typ_id in range(len(types)):\n",
    "            #print(cells[cell_id], cycles[cyc_id], types[typ_id])\n",
    "            arr = np.array(data[cell_id][cyc_id][typ_id]).T   # 4 x 3500 +> 3500 x 4\n",
    "            df = pd.DataFrame(arr)\n",
    "            df.columns = cols\n",
    "            df[\"type\"] = types[typ_id]\n",
    "            df[\"cycle\"] = cycles[cyc_id]\n",
    "            df[\"cell\"] = cells[cell_id]\n",
    "            dfs.append(df)"
   ]
  },
  {
   "cell_type": "code",
   "execution_count": 11,
   "metadata": {
    "cell_id": "257ee55c14ca4b3fab32fdcafc4bbc4e",
    "deepnote_cell_type": "code",
    "deepnote_to_be_reexecuted": false,
    "execution_millis": 1,
    "execution_start": 1664201450570,
    "source_hash": "5f09862b"
   },
   "outputs": [],
   "source": [
    "dff = pd.concat(dfs)"
   ]
  },
  {
   "cell_type": "code",
   "execution_count": 12,
   "metadata": {
    "cell_id": "da49069f458a42499c86951c0b43db55",
    "deepnote_cell_type": "code",
    "deepnote_to_be_reexecuted": true,
    "execution_millis": 1308,
    "execution_start": 1664201327712,
    "source_hash": "9dfde2d6"
   },
   "outputs": [
    {
     "data": {
      "text/plain": [
       "(15264130, 7)"
      ]
     },
     "execution_count": 12,
     "metadata": {},
     "output_type": "execute_result"
    }
   ],
   "source": [
    "dff.shape"
   ]
  },
  {
   "cell_type": "code",
   "execution_count": 13,
   "metadata": {
    "cell_id": "81d8bc8741f84525b9dbda3b486f0f4b",
    "deepnote_cell_type": "code",
    "deepnote_to_be_reexecuted": true,
    "source_hash": "fb37617a"
   },
   "outputs": [],
   "source": [
    "#dff.to_csv(\"battery.csv\")"
   ]
  },
  {
   "cell_type": "markdown",
   "metadata": {
    "cell_id": "7859f6c23aa447719fa4eb024a5a50f4",
    "deepnote_cell_type": "text-cell-h2",
    "formattedRanges": [],
    "is_collapsed": false,
    "tags": []
   },
   "source": [
    "## Computing SOC"
   ]
  },
  {
   "cell_type": "code",
   "execution_count": 14,
   "metadata": {
    "cell_id": "5fd6f49de76941df817113921e38aba4",
    "deepnote_cell_type": "code",
    "deepnote_to_be_reexecuted": true,
    "execution_millis": 2161,
    "execution_start": 1664067691357,
    "source_hash": "226eac3",
    "tags": []
   },
   "outputs": [],
   "source": [
    "import pandas as pd\n",
    "import numpy as np\n",
    "import seaborn as sns"
   ]
  },
  {
   "cell_type": "code",
   "execution_count": 15,
   "metadata": {
    "cell_id": "6eec51615d394571a59f6d6bfeef6ee6",
    "deepnote_cell_type": "code",
    "deepnote_to_be_reexecuted": true,
    "execution_millis": 12144,
    "execution_start": 1664067693520,
    "source_hash": "33d9d3f5",
    "tags": []
   },
   "outputs": [],
   "source": [
    "dff = pd.read_csv(\"battery.csv\")"
   ]
  },
  {
   "cell_type": "code",
   "execution_count": 16,
   "metadata": {
    "cell_id": "5ac481aa36304256a254b091e978325c",
    "deepnote_cell_type": "code",
    "deepnote_to_be_reexecuted": true,
    "execution_millis": 84,
    "execution_start": 1664067895479,
    "source_hash": "17ba5b34",
    "tags": []
   },
   "outputs": [],
   "source": [
    "dff[\"Qplus\"] = dff[\"q\"].abs() "
   ]
  },
  {
   "cell_type": "code",
   "execution_count": 17,
   "metadata": {
    "cell_id": "3b8809fc725b45dabbdaaa34fe18ddb8",
    "deepnote_cell_type": "code",
    "deepnote_to_be_reexecuted": true,
    "execution_millis": 558,
    "execution_start": 1664067901053,
    "source_hash": "61e7510e",
    "tags": []
   },
   "outputs": [],
   "source": [
    "df = dff[dff[\"cell\"] == \"Cell1\"] "
   ]
  },
  {
   "cell_type": "code",
   "execution_count": 18,
   "metadata": {
    "cell_id": "7bed25d61b1e4a9d88dadc0260477c70",
    "deepnote_cell_type": "code",
    "deepnote_to_be_reexecuted": true,
    "execution_millis": 5,
    "execution_start": 1664067901641,
    "source_hash": "a8732081",
    "tags": []
   },
   "outputs": [],
   "source": [
    "cyc = df[df[\"cycle\"].isin([\"cyc0000\"])] "
   ]
  },
  {
   "cell_type": "code",
   "execution_count": 19,
   "metadata": {
    "cell_id": "c20654ebc5c64c0ba40d3b297a0a3395",
    "deepnote_cell_type": "code",
    "deepnote_to_be_reexecuted": true,
    "execution_millis": 17851,
    "execution_start": 1664067910854,
    "source_hash": "4d53439b",
    "tags": []
   },
   "outputs": [
    {
     "data": {
      "text/plain": [
       "<matplotlib.axes._subplots.AxesSubplot at 0x7fa16aeab1c0>"
      ]
     },
     "execution_count": 19,
     "metadata": {},
     "output_type": "execute_result"
    },
    {
     "data": {
      "image/png": "[encoded data removed]",
      "text/plain": [
       "<Figure size 432x288 with 1 Axes>"
      ]
     },
     "metadata": {
      "needs_background": "light"
     },
     "output_type": "display_data"
    }
   ],
   "source": [
    "sns.lineplot(data = cyc, x = \"t\", y = \"Qplus\", hue = \"type\") "
   ]
  },
  {
   "cell_type": "code",
   "execution_count": 20,
   "metadata": {
    "cell_id": "30058d046072459da24fe7957c775ac6",
    "deepnote_cell_type": "code",
    "deepnote_to_be_reexecuted": true,
    "execution_millis": 7164,
    "execution_start": 1664067928957,
    "source_hash": "b0181a1d",
    "tags": []
   },
   "outputs": [],
   "source": [
    "maxi = dff.groupby([\"cell\", \"cycle\", \"type\"]).max()\n",
    "mini = dff.groupby([\"cell\", \"cycle\", \"type\"]).min() "
   ]
  },
  {
   "cell_type": "code",
   "execution_count": 21,
   "metadata": {
    "cell_id": "87a9e300e60d4a098d8c3cc62129c14d",
    "deepnote_cell_type": "code",
    "deepnote_to_be_reexecuted": true,
    "execution_millis": 3,
    "execution_start": 1664068039199,
    "output_cleared": true,
    "source_hash": "ba348771",
    "tags": []
   },
   "outputs": [],
   "source": [
    "def scaler(df):\n",
    "    res= df.apply(lambda r: r[\"q\"] / maxi.loc[r[\"cell\"], r[\"cycle\"], r[\"type\"]][\"Qplus\"], axis = 1)\n",
    "    return res\n"
   ]
  },
  {
   "cell_type": "code",
   "execution_count": 22,
   "metadata": {
    "cell_id": "60a6297900484f5bb5943a51b47cc3ed",
    "deepnote_cell_type": "code",
    "deepnote_to_be_reexecuted": true,
    "output_cleared": true,
    "source_hash": "3fbc0fed",
    "tags": []
   },
   "outputs": [],
   "source": [
    "dff[\"SOC\"] = scaler(dff) "
   ]
  },
  {
   "cell_type": "code",
   "execution_count": 23,
   "metadata": {
    "cell_id": "839d8f9ece7e407eafd74d6c0d56f8c6",
    "deepnote_cell_type": "code",
    "deepnote_to_be_reexecuted": true,
    "source_hash": "9cf38c27",
    "tags": []
   },
   "outputs": [],
   "source": [
    "#dff.to_csv(\"batt_soc.csv\") "
   ]
  },
  {
   "cell_type": "code",
   "execution_count": 24,
   "metadata": {
    "cell_id": "71a34789ee4b4d4fa659538d8e02a58c",
    "deepnote_cell_type": "code",
    "deepnote_to_be_reexecuted": true,
    "source_hash": "762a2f00"
   },
   "outputs": [
    {
     "data": {
      "text/html": [
       "<div>\n",
       "<style scoped>\n",
       "    .dataframe tbody tr th:only-of-type {\n",
       "        vertical-align: middle;\n",
       "    }\n",
       "\n",
       "    .dataframe tbody tr th {\n",
       "        vertical-align: top;\n",
       "    }\n",
       "\n",
       "    .dataframe thead th {\n",
       "        text-align: right;\n",
       "    }\n",
       "</style>\n",
       "<table border=\"1\" class=\"dataframe\">\n",
       "  <thead>\n",
       "    <tr style=\"text-align: right;\">\n",
       "      <th></th>\n",
       "      <th>Unnamed: 0</th>\n",
       "      <th>t</th>\n",
       "      <th>v</th>\n",
       "      <th>q</th>\n",
       "      <th>T</th>\n",
       "      <th>type</th>\n",
       "      <th>cycle</th>\n",
       "      <th>cell</th>\n",
       "      <th>Qplus</th>\n",
       "      <th>SOC</th>\n",
       "    </tr>\n",
       "  </thead>\n",
       "  <tbody>\n",
       "    <tr>\n",
       "      <th>0</th>\n",
       "      <td>0</td>\n",
       "      <td>735954.858966</td>\n",
       "      <td>2.719213</td>\n",
       "      <td>-0.000049</td>\n",
       "      <td>41.295536</td>\n",
       "      <td>C1ch</td>\n",
       "      <td>cyc0000</td>\n",
       "      <td>Cell1</td>\n",
       "      <td>0.000049</td>\n",
       "      <td>-6.743288e-08</td>\n",
       "    </tr>\n",
       "    <tr>\n",
       "      <th>1</th>\n",
       "      <td>1</td>\n",
       "      <td>735954.858977</td>\n",
       "      <td>2.856135</td>\n",
       "      <td>0.206339</td>\n",
       "      <td>41.000046</td>\n",
       "      <td>C1ch</td>\n",
       "      <td>cyc0000</td>\n",
       "      <td>Cell1</td>\n",
       "      <td>0.206339</td>\n",
       "      <td>2.849508e-04</td>\n",
       "    </tr>\n",
       "    <tr>\n",
       "      <th>2</th>\n",
       "      <td>2</td>\n",
       "      <td>735954.858989</td>\n",
       "      <td>2.877108</td>\n",
       "      <td>0.412724</td>\n",
       "      <td>40.962608</td>\n",
       "      <td>C1ch</td>\n",
       "      <td>cyc0000</td>\n",
       "      <td>Cell1</td>\n",
       "      <td>0.412724</td>\n",
       "      <td>5.699658e-04</td>\n",
       "    </tr>\n",
       "    <tr>\n",
       "      <th>3</th>\n",
       "      <td>3</td>\n",
       "      <td>735954.859000</td>\n",
       "      <td>2.892908</td>\n",
       "      <td>0.619110</td>\n",
       "      <td>40.987579</td>\n",
       "      <td>C1ch</td>\n",
       "      <td>cyc0000</td>\n",
       "      <td>Cell1</td>\n",
       "      <td>0.619110</td>\n",
       "      <td>8.549822e-04</td>\n",
       "    </tr>\n",
       "    <tr>\n",
       "      <th>4</th>\n",
       "      <td>4</td>\n",
       "      <td>735954.859012</td>\n",
       "      <td>2.906382</td>\n",
       "      <td>0.825497</td>\n",
       "      <td>41.049992</td>\n",
       "      <td>C1ch</td>\n",
       "      <td>cyc0000</td>\n",
       "      <td>Cell1</td>\n",
       "      <td>0.825497</td>\n",
       "      <td>1.139999e-03</td>\n",
       "    </tr>\n",
       "  </tbody>\n",
       "</table>\n",
       "</div>"
      ],
      "text/plain": [
       "   Unnamed: 0              t         v         q          T  type    cycle  \\\n",
       "0           0  735954.858966  2.719213 -0.000049  41.295536  C1ch  cyc0000   \n",
       "1           1  735954.858977  2.856135  0.206339  41.000046  C1ch  cyc0000   \n",
       "2           2  735954.858989  2.877108  0.412724  40.962608  C1ch  cyc0000   \n",
       "3           3  735954.859000  2.892908  0.619110  40.987579  C1ch  cyc0000   \n",
       "4           4  735954.859012  2.906382  0.825497  41.049992  C1ch  cyc0000   \n",
       "\n",
       "    cell     Qplus           SOC  \n",
       "0  Cell1  0.000049 -6.743288e-08  \n",
       "1  Cell1  0.206339  2.849508e-04  \n",
       "2  Cell1  0.412724  5.699658e-04  \n",
       "3  Cell1  0.619110  8.549822e-04  \n",
       "4  Cell1  0.825497  1.139999e-03  "
      ]
     },
     "execution_count": 24,
     "metadata": {},
     "output_type": "execute_result"
    }
   ],
   "source": [
    "dff.head()"
   ]
  },
  {
   "cell_type": "markdown",
   "metadata": {
    "cell_id": "b6e682fe498243e5b96e005b3fc88809",
    "deepnote_cell_type": "text-cell-h2",
    "formattedRanges": [],
    "is_collapsed": false,
    "tags": []
   },
   "source": [
    "## Exploration"
   ]
  },
  {
   "cell_type": "code",
   "execution_count": 25,
   "metadata": {
    "cell_id": "5b6a1ef5e82a48199b15e14ca5664044",
    "deepnote_cell_type": "code",
    "deepnote_to_be_reexecuted": true,
    "execution_millis": 1709,
    "execution_start": 1664151281335,
    "source_hash": "68301009",
    "tags": []
   },
   "outputs": [],
   "source": [
    "import pandas as pd\n",
    "import numpy as np\n",
    "import seaborn as sns\n",
    "import matplotlib.pyplot as plt"
   ]
  },
  {
   "cell_type": "code",
   "execution_count": 26,
   "metadata": {
    "cell_id": "f62945a3a767430a8cb2858932f485f6",
    "deepnote_cell_type": "code",
    "deepnote_to_be_reexecuted": true,
    "execution_millis": 54070,
    "execution_start": 1664151318224,
    "source_hash": "4e582750",
    "tags": []
   },
   "outputs": [
    {
     "ename": "FileNotFoundError",
     "evalue": "[Errno 2] File /datasets/lit/batt_soc.csv does not exist: '/datasets/lit/batt_soc.csv'",
     "output_type": "error",
     "traceback": [
      "\u001b[0;31m---------------------------------------------------------------------------\u001b[0m",
      "\u001b[0;31mFileNotFoundError\u001b[0m                         Traceback (most recent call last)",
      "\u001b[0;32m<ipython-input-26-6a9edce707ed>\u001b[0m in \u001b[0;36m<module>\u001b[0;34m\u001b[0m\n\u001b[0;32m----> 1\u001b[0;31m \u001b[0mdff\u001b[0m \u001b[0;34m=\u001b[0m \u001b[0mpd\u001b[0m\u001b[0;34m.\u001b[0m\u001b[0mread_csv\u001b[0m\u001b[0;34m(\u001b[0m\u001b[0;34m\"/datasets/lit/batt_soc.csv\"\u001b[0m\u001b[0;34m)\u001b[0m\u001b[0;34m\u001b[0m\u001b[0;34m\u001b[0m\u001b[0m\n\u001b[0m",
      "\u001b[0;32m~/opt/anaconda3/lib/python3.8/site-packages/pandas/io/parsers.py\u001b[0m in \u001b[0;36mparser_f\u001b[0;34m(filepath_or_buffer, sep, delimiter, header, names, index_col, usecols, squeeze, prefix, mangle_dupe_cols, dtype, engine, converters, true_values, false_values, skipinitialspace, skiprows, skipfooter, nrows, na_values, keep_default_na, na_filter, verbose, skip_blank_lines, parse_dates, infer_datetime_format, keep_date_col, date_parser, dayfirst, cache_dates, iterator, chunksize, compression, thousands, decimal, lineterminator, quotechar, quoting, doublequote, escapechar, comment, encoding, dialect, error_bad_lines, warn_bad_lines, delim_whitespace, low_memory, memory_map, float_precision)\u001b[0m\n\u001b[1;32m    674\u001b[0m         )\n\u001b[1;32m    675\u001b[0m \u001b[0;34m\u001b[0m\u001b[0m\n\u001b[0;32m--> 676\u001b[0;31m         \u001b[0;32mreturn\u001b[0m \u001b[0m_read\u001b[0m\u001b[0;34m(\u001b[0m\u001b[0mfilepath_or_buffer\u001b[0m\u001b[0;34m,\u001b[0m \u001b[0mkwds\u001b[0m\u001b[0;34m)\u001b[0m\u001b[0;34m\u001b[0m\u001b[0;34m\u001b[0m\u001b[0m\n\u001b[0m\u001b[1;32m    677\u001b[0m \u001b[0;34m\u001b[0m\u001b[0m\n\u001b[1;32m    678\u001b[0m     \u001b[0mparser_f\u001b[0m\u001b[0;34m.\u001b[0m\u001b[0m__name__\u001b[0m \u001b[0;34m=\u001b[0m \u001b[0mname\u001b[0m\u001b[0;34m\u001b[0m\u001b[0;34m\u001b[0m\u001b[0m\n",
      "\u001b[0;32m~/opt/anaconda3/lib/python3.8/site-packages/pandas/io/parsers.py\u001b[0m in \u001b[0;36m_read\u001b[0;34m(filepath_or_buffer, kwds)\u001b[0m\n\u001b[1;32m    446\u001b[0m \u001b[0;34m\u001b[0m\u001b[0m\n\u001b[1;32m    447\u001b[0m     \u001b[0;31m# Create the parser.\u001b[0m\u001b[0;34m\u001b[0m\u001b[0;34m\u001b[0m\u001b[0;34m\u001b[0m\u001b[0m\n\u001b[0;32m--> 448\u001b[0;31m     \u001b[0mparser\u001b[0m \u001b[0;34m=\u001b[0m \u001b[0mTextFileReader\u001b[0m\u001b[0;34m(\u001b[0m\u001b[0mfp_or_buf\u001b[0m\u001b[0;34m,\u001b[0m \u001b[0;34m**\u001b[0m\u001b[0mkwds\u001b[0m\u001b[0;34m)\u001b[0m\u001b[0;34m\u001b[0m\u001b[0;34m\u001b[0m\u001b[0m\n\u001b[0m\u001b[1;32m    449\u001b[0m \u001b[0;34m\u001b[0m\u001b[0m\n\u001b[1;32m    450\u001b[0m     \u001b[0;32mif\u001b[0m \u001b[0mchunksize\u001b[0m \u001b[0;32mor\u001b[0m \u001b[0miterator\u001b[0m\u001b[0;34m:\u001b[0m\u001b[0;34m\u001b[0m\u001b[0;34m\u001b[0m\u001b[0m\n",
      "\u001b[0;32m~/opt/anaconda3/lib/python3.8/site-packages/pandas/io/parsers.py\u001b[0m in \u001b[0;36m__init__\u001b[0;34m(self, f, engine, **kwds)\u001b[0m\n\u001b[1;32m    878\u001b[0m             \u001b[0mself\u001b[0m\u001b[0;34m.\u001b[0m\u001b[0moptions\u001b[0m\u001b[0;34m[\u001b[0m\u001b[0;34m\"has_index_names\"\u001b[0m\u001b[0;34m]\u001b[0m \u001b[0;34m=\u001b[0m \u001b[0mkwds\u001b[0m\u001b[0;34m[\u001b[0m\u001b[0;34m\"has_index_names\"\u001b[0m\u001b[0;34m]\u001b[0m\u001b[0;34m\u001b[0m\u001b[0;34m\u001b[0m\u001b[0m\n\u001b[1;32m    879\u001b[0m \u001b[0;34m\u001b[0m\u001b[0m\n\u001b[0;32m--> 880\u001b[0;31m         \u001b[0mself\u001b[0m\u001b[0;34m.\u001b[0m\u001b[0m_make_engine\u001b[0m\u001b[0;34m(\u001b[0m\u001b[0mself\u001b[0m\u001b[0;34m.\u001b[0m\u001b[0mengine\u001b[0m\u001b[0;34m)\u001b[0m\u001b[0;34m\u001b[0m\u001b[0;34m\u001b[0m\u001b[0m\n\u001b[0m\u001b[1;32m    881\u001b[0m \u001b[0;34m\u001b[0m\u001b[0m\n\u001b[1;32m    882\u001b[0m     \u001b[0;32mdef\u001b[0m \u001b[0mclose\u001b[0m\u001b[0;34m(\u001b[0m\u001b[0mself\u001b[0m\u001b[0;34m)\u001b[0m\u001b[0;34m:\u001b[0m\u001b[0;34m\u001b[0m\u001b[0;34m\u001b[0m\u001b[0m\n",
      "\u001b[0;32m~/opt/anaconda3/lib/python3.8/site-packages/pandas/io/parsers.py\u001b[0m in \u001b[0;36m_make_engine\u001b[0;34m(self, engine)\u001b[0m\n\u001b[1;32m   1112\u001b[0m     \u001b[0;32mdef\u001b[0m \u001b[0m_make_engine\u001b[0m\u001b[0;34m(\u001b[0m\u001b[0mself\u001b[0m\u001b[0;34m,\u001b[0m \u001b[0mengine\u001b[0m\u001b[0;34m=\u001b[0m\u001b[0;34m\"c\"\u001b[0m\u001b[0;34m)\u001b[0m\u001b[0;34m:\u001b[0m\u001b[0;34m\u001b[0m\u001b[0;34m\u001b[0m\u001b[0m\n\u001b[1;32m   1113\u001b[0m         \u001b[0;32mif\u001b[0m \u001b[0mengine\u001b[0m \u001b[0;34m==\u001b[0m \u001b[0;34m\"c\"\u001b[0m\u001b[0;34m:\u001b[0m\u001b[0;34m\u001b[0m\u001b[0;34m\u001b[0m\u001b[0m\n\u001b[0;32m-> 1114\u001b[0;31m             \u001b[0mself\u001b[0m\u001b[0;34m.\u001b[0m\u001b[0m_engine\u001b[0m \u001b[0;34m=\u001b[0m \u001b[0mCParserWrapper\u001b[0m\u001b[0;34m(\u001b[0m\u001b[0mself\u001b[0m\u001b[0;34m.\u001b[0m\u001b[0mf\u001b[0m\u001b[0;34m,\u001b[0m \u001b[0;34m**\u001b[0m\u001b[0mself\u001b[0m\u001b[0;34m.\u001b[0m\u001b[0moptions\u001b[0m\u001b[0;34m)\u001b[0m\u001b[0;34m\u001b[0m\u001b[0;34m\u001b[0m\u001b[0m\n\u001b[0m\u001b[1;32m   1115\u001b[0m         \u001b[0;32melse\u001b[0m\u001b[0;34m:\u001b[0m\u001b[0;34m\u001b[0m\u001b[0;34m\u001b[0m\u001b[0m\n\u001b[1;32m   1116\u001b[0m             \u001b[0;32mif\u001b[0m \u001b[0mengine\u001b[0m \u001b[0;34m==\u001b[0m \u001b[0;34m\"python\"\u001b[0m\u001b[0;34m:\u001b[0m\u001b[0;34m\u001b[0m\u001b[0;34m\u001b[0m\u001b[0m\n",
      "\u001b[0;32m~/opt/anaconda3/lib/python3.8/site-packages/pandas/io/parsers.py\u001b[0m in \u001b[0;36m__init__\u001b[0;34m(self, src, **kwds)\u001b[0m\n\u001b[1;32m   1889\u001b[0m         \u001b[0mkwds\u001b[0m\u001b[0;34m[\u001b[0m\u001b[0;34m\"usecols\"\u001b[0m\u001b[0;34m]\u001b[0m \u001b[0;34m=\u001b[0m \u001b[0mself\u001b[0m\u001b[0;34m.\u001b[0m\u001b[0musecols\u001b[0m\u001b[0;34m\u001b[0m\u001b[0;34m\u001b[0m\u001b[0m\n\u001b[1;32m   1890\u001b[0m \u001b[0;34m\u001b[0m\u001b[0m\n\u001b[0;32m-> 1891\u001b[0;31m         \u001b[0mself\u001b[0m\u001b[0;34m.\u001b[0m\u001b[0m_reader\u001b[0m \u001b[0;34m=\u001b[0m \u001b[0mparsers\u001b[0m\u001b[0;34m.\u001b[0m\u001b[0mTextReader\u001b[0m\u001b[0;34m(\u001b[0m\u001b[0msrc\u001b[0m\u001b[0;34m,\u001b[0m \u001b[0;34m**\u001b[0m\u001b[0mkwds\u001b[0m\u001b[0;34m)\u001b[0m\u001b[0;34m\u001b[0m\u001b[0;34m\u001b[0m\u001b[0m\n\u001b[0m\u001b[1;32m   1892\u001b[0m         \u001b[0mself\u001b[0m\u001b[0;34m.\u001b[0m\u001b[0munnamed_cols\u001b[0m \u001b[0;34m=\u001b[0m \u001b[0mself\u001b[0m\u001b[0;34m.\u001b[0m\u001b[0m_reader\u001b[0m\u001b[0;34m.\u001b[0m\u001b[0munnamed_cols\u001b[0m\u001b[0;34m\u001b[0m\u001b[0;34m\u001b[0m\u001b[0m\n\u001b[1;32m   1893\u001b[0m \u001b[0;34m\u001b[0m\u001b[0m\n",
      "\u001b[0;32mpandas/_libs/parsers.pyx\u001b[0m in \u001b[0;36mpandas._libs.parsers.TextReader.__cinit__\u001b[0;34m()\u001b[0m\n",
      "\u001b[0;32mpandas/_libs/parsers.pyx\u001b[0m in \u001b[0;36mpandas._libs.parsers.TextReader._setup_parser_source\u001b[0;34m()\u001b[0m\n",
      "\u001b[0;31mFileNotFoundError\u001b[0m: [Errno 2] File /datasets/lit/batt_soc.csv does not exist: '/datasets/lit/batt_soc.csv'"
     ]
    }
   ],
   "source": [
    "dff = pd.read_csv(\"/datasets/lit/batt_soc.csv\")"
   ]
  },
  {
   "cell_type": "code",
   "execution_count": null,
   "metadata": {
    "cell_id": "2201baa42d5f43aa90523a066a7adec0",
    "deepnote_cell_type": "code",
    "deepnote_to_be_reexecuted": true,
    "execution_millis": 1901,
    "execution_start": 1664151394923,
    "output_cleared": true,
    "source_hash": "7b34b82e",
    "tags": []
   },
   "outputs": [],
   "source": [
    "# Considering only battery \n",
    "dff = dff[dff[\"cell\"] == \"Cell1\"].drop([\"Unnamed: 0.1\", \"Unnamed: 0\"], axis = 1)"
   ]
  },
  {
   "cell_type": "code",
   "execution_count": null,
   "metadata": {
    "cell_id": "ef3a6a99ade54186934ff594415caa33",
    "deepnote_cell_type": "code",
    "deepnote_to_be_reexecuted": true,
    "execution_millis": 0,
    "execution_start": 1664151418615,
    "source_hash": "68ffefad",
    "tags": []
   },
   "outputs": [],
   "source": [
    "dff[\"SOCp\"] = dff[\"SOC\"].abs() "
   ]
  },
  {
   "cell_type": "code",
   "execution_count": null,
   "metadata": {
    "cell_id": "8658a8fcb39b46ba8aa5d0806fb488da",
    "deepnote_cell_type": "code",
    "deepnote_to_be_reexecuted": true,
    "source_hash": "9ee1c979",
    "tags": []
   },
   "outputs": [],
   "source": [
    "for cel in cells: \n",
    "    for typ in types:\n",
    "        dff_Cell=dff[dff['cell']==cel]\n",
    "        dff_Cell=dff_Cell[dff_Cell['type']==typ]\n",
    "        a=dff_Cell.sample(1000)\n",
    "        plt.scatter(a['q'],a['v'])\n",
    "        plt.ylabel('Voltage', fontsize = 15)\n",
    "        plt.xlabel('Charge', fontsize = 15)\n",
    "        plt.title('Scarplot of charge and voltage of 100 mesurement randomly selected for '+cel+' and '+typ, fontsize = 15)\n",
    "        plt.show()"
   ]
  },
  {
   "cell_type": "code",
   "execution_count": null,
   "metadata": {
    "cell_id": "480f1f6b5b5548ec93ad08ba72fbcfed",
    "deepnote_cell_type": "code",
    "deepnote_to_be_reexecuted": true,
    "source_hash": "72d55233",
    "tags": []
   },
   "outputs": [],
   "source": [
    "for cel in cells: \n",
    "    for typ in types:\n",
    "        dff_Cell=dff[dff['cell']==cel]\n",
    "        dff_Cell=dff_Cell[dff_Cell['type']==typ]\n",
    "        a=dff_Cell.sample(1000)\n",
    "        plt.scatter(a['cycle'],a['v'])\n",
    "        plt.ylabel('Voltage', fontsize = 15)\n",
    "        plt.xlabel('Cycle', fontsize = 15)\n",
    "        plt.title('Scarplot of voltage and cycle of 100 mesurement randomly selected for '+cel+' and '+typ, fontsize = 15)\n",
    "        plt.show()\n",
    "\n"
   ]
  },
  {
   "cell_type": "code",
   "execution_count": null,
   "metadata": {
    "cell_id": "aa23008d9b49440683a4717422c311c5",
    "deepnote_cell_type": "code",
    "deepnote_to_be_reexecuted": true,
    "execution_millis": 754,
    "execution_start": 1664151423057,
    "source_hash": "261ad5a2",
    "tags": []
   },
   "outputs": [],
   "source": [
    "dff[\"cycle\"] = dff[\"cycle\"].transform(lambda r: int(r[3:])/100) # cyc3000"
   ]
  },
  {
   "cell_type": "code",
   "execution_count": null,
   "metadata": {
    "cell_id": "2dc1e8efa769436eb683bc48798fb48e",
    "deepnote_cell_type": "code",
    "deepnote_to_be_reexecuted": true,
    "execution_millis": 71,
    "execution_start": 1664151429686,
    "source_hash": "3a759ef8",
    "tags": []
   },
   "outputs": [],
   "source": [
    "cyc = dff[dff[\"cycle\"] == 50]] "
   ]
  },
  {
   "cell_type": "code",
   "execution_count": null,
   "metadata": {
    "cell_id": "b5eb3116177648a494ca2bb0ab8c0fc1",
    "deepnote_cell_type": "code",
    "deepnote_to_be_reexecuted": true,
    "execution_millis": 2,
    "execution_start": 1664149333639,
    "source_hash": "8b745c1d",
    "tags": []
   },
   "outputs": [],
   "source": [
    "# sns.scatterplot(data = dff.sample(5000), x = \"v\", y = \"SOC\", hue = \"type\") "
   ]
  },
  {
   "cell_type": "code",
   "execution_count": null,
   "metadata": {
    "cell_id": "ce68db73b65d4c0baead56c2cf15e1d1",
    "deepnote_cell_type": "visualization",
    "deepnote_to_be_reexecuted": true,
    "deepnote_variable_name": "cyc",
    "deepnote_visualization_spec": {
     "$schema": "https://vega.github.io/schema/vega-lite/v4.json",
     "autosize": {
      "type": "fit"
     },
     "data": {
      "name": "placeholder"
     },
     "encoding": {
      "color": {
       "field": "type",
       "scale": {
        "type": "linear",
        "zero": false
       },
       "sort": null,
       "type": "nominal"
      },
      "x": {
       "field": "v",
       "scale": {
        "type": "linear",
        "zero": false
       },
       "sort": null,
       "type": "quantitative"
      },
      "y": {
       "field": "SOCp",
       "scale": {
        "type": "linear",
        "zero": false
       },
       "sort": null,
       "type": "quantitative"
      }
     },
     "height": 220,
     "mark": {
      "tooltip": true,
      "type": "point"
     }
    },
    "execution_millis": 570,
    "execution_start": 1664151433472,
    "source_hash": "982abcd2"
   },
   "outputs": [],
   "source": [
    "_deepnote_run_altair(cyc, \"\"\"{\"data\":{\"name\":\"placeholder\"},\"mark\":{\"type\":\"point\",\"tooltip\":true},\"height\":220,\"$schema\":\"https://vega.github.io/schema/vega-lite/v4.json\",\"autosize\":{\"type\":\"fit\"},\"encoding\":{\"x\":{\"sort\":null,\"type\":\"quantitative\",\"field\":\"v\",\"scale\":{\"type\":\"linear\",\"zero\":false}},\"y\":{\"sort\":null,\"type\":\"quantitative\",\"field\":\"SOCp\",\"scale\":{\"type\":\"linear\",\"zero\":false}},\"color\":{\"sort\":null,\"type\":\"nominal\",\"field\":\"type\",\"scale\":{\"type\":\"linear\",\"zero\":false}}}}\"\"\")"
   ]
  },
  {
   "cell_type": "code",
   "execution_count": null,
   "metadata": {
    "cell_id": "db8821c0d08d4c7b832bb59c078c354c",
    "deepnote_cell_type": "visualization",
    "deepnote_to_be_reexecuted": true,
    "deepnote_variable_name": "dff",
    "deepnote_visualization_spec": {
     "$schema": "https://vega.github.io/schema/vega-lite/v4.json",
     "autosize": {
      "type": "fit"
     },
     "data": {
      "name": "placeholder"
     },
     "encoding": {
      "color": {
       "field": "type",
       "scale": {
        "type": "linear",
        "zero": false
       },
       "sort": null,
       "type": "nominal"
      },
      "x": {
       "field": "v",
       "scale": {
        "type": "linear",
        "zero": false
       },
       "sort": null,
       "type": "quantitative"
      },
      "y": {
       "field": "SOCp",
       "scale": {
        "type": "linear",
        "zero": false
       },
       "sort": null,
       "type": "quantitative"
      }
     },
     "height": 220,
     "mark": {
      "tooltip": true,
      "type": "point"
     }
    },
    "execution_millis": 208,
    "execution_start": 1664151446374,
    "source_hash": "b5967ddf"
   },
   "outputs": [],
   "source": [
    "_deepnote_run_altair(dff, \"\"\"{\"data\":{\"name\":\"placeholder\"},\"mark\":{\"type\":\"point\",\"tooltip\":true},\"height\":220,\"$schema\":\"https://vega.github.io/schema/vega-lite/v4.json\",\"autosize\":{\"type\":\"fit\"},\"encoding\":{\"x\":{\"sort\":null,\"type\":\"quantitative\",\"field\":\"v\",\"scale\":{\"type\":\"linear\",\"zero\":false}},\"y\":{\"sort\":null,\"type\":\"quantitative\",\"field\":\"SOCp\",\"scale\":{\"type\":\"linear\",\"zero\":false}},\"color\":{\"sort\":null,\"type\":\"nominal\",\"field\":\"type\",\"scale\":{\"type\":\"linear\",\"zero\":false}}}}\"\"\")"
   ]
  },
  {
   "cell_type": "code",
   "execution_count": null,
   "metadata": {
    "cell_id": "069ac7a112f5412cae8dbdf83827403c",
    "deepnote_cell_type": "visualization",
    "deepnote_to_be_reexecuted": true,
    "source_hash": "b623e53d"
   },
   "outputs": [],
   "source": []
  },
  {
   "cell_type": "code",
   "execution_count": null,
   "metadata": {
    "cell_id": "1c085e7e75774f6e893860a8075bf1f8",
    "deepnote_cell_type": "code",
    "deepnote_to_be_reexecuted": true,
    "source_hash": "b623e53d",
    "tags": []
   },
   "outputs": [],
   "source": []
  },
  {
   "cell_type": "code",
   "execution_count": null,
   "metadata": {
    "cell_id": "329c2b8449a74fa792e108ce9f834d55",
    "deepnote_cell_type": "code",
    "deepnote_to_be_reexecuted": true,
    "execution_millis": 224,
    "execution_start": 1664151460142,
    "source_hash": "a88719c",
    "tags": []
   },
   "outputs": [],
   "source": [
    "aggs = dff.groupby([\"cell\", \"cycle\", \"type\"]).max().reset_index() "
   ]
  },
  {
   "cell_type": "code",
   "execution_count": null,
   "metadata": {
    "cell_id": "304dbc0422244cb0b8684e64dfdc94c5",
    "deepnote_cell_type": "code",
    "deepnote_to_be_reexecuted": true,
    "execution_millis": 2,
    "execution_start": 1664151460686,
    "source_hash": "47de05ca",
    "tags": []
   },
   "outputs": [],
   "source": [
    "inits = aggs.groupby([\"cell\", \"type\"]).max() "
   ]
  },
  {
   "cell_type": "code",
   "execution_count": null,
   "metadata": {
    "cell_id": "de54e57b3ead49e2a063024a49e65f5f",
    "deepnote_cell_type": "code",
    "deepnote_to_be_reexecuted": true,
    "execution_millis": 2,
    "execution_start": 1664151463675,
    "source_hash": "f9d3bd3a",
    "tags": []
   },
   "outputs": [],
   "source": [
    "def scaler(df):\n",
    "    res= df.apply(lambda r: r[\"Qplus\"] / inits.loc[r[\"cell\"], r[\"type\"]][\"Qplus\"] , axis = 1)\n",
    "    return res \n"
   ]
  },
  {
   "cell_type": "code",
   "execution_count": null,
   "metadata": {
    "cell_id": "bcc25564fb66489b9c28913715897ac3",
    "deepnote_cell_type": "code",
    "deepnote_to_be_reexecuted": true,
    "execution_millis": 16,
    "execution_start": 1664151465704,
    "source_hash": "ba52f945",
    "tags": []
   },
   "outputs": [],
   "source": [
    "aggs[\"SOH\"] = scaler(aggs.reset_index()) "
   ]
  },
  {
   "cell_type": "code",
   "execution_count": null,
   "metadata": {
    "cell_id": "36fc551caf8d4fc0aa5acc66284a2176",
    "deepnote_cell_type": "visualization",
    "deepnote_to_be_reexecuted": true,
    "deepnote_variable_name": "aggs",
    "deepnote_visualization_spec": {
     "$schema": "https://vega.github.io/schema/vega-lite/v4.json",
     "autosize": {
      "type": "fit"
     },
     "data": {
      "name": "placeholder"
     },
     "encoding": {
      "color": {
       "field": "type",
       "scale": {
        "type": "linear",
        "zero": false
       },
       "sort": null,
       "type": "nominal"
      },
      "x": {
       "field": "cycle",
       "scale": {
        "type": "linear",
        "zero": false
       },
       "sort": null,
       "type": "quantitative"
      },
      "y": {
       "field": "SOH",
       "scale": {
        "type": "linear",
        "zero": false
       },
       "sort": null,
       "type": "quantitative"
      }
     },
     "height": 220,
     "mark": {
      "tooltip": true,
      "type": "line"
     }
    },
    "execution_millis": 58,
    "execution_start": 1664151469441,
    "source_hash": "67cdf587"
   },
   "outputs": [],
   "source": [
    "_deepnote_run_altair(aggs, \"\"\"{\"data\":{\"name\":\"placeholder\"},\"mark\":{\"type\":\"line\",\"tooltip\":true},\"height\":220,\"$schema\":\"https://vega.github.io/schema/vega-lite/v4.json\",\"autosize\":{\"type\":\"fit\"},\"encoding\":{\"x\":{\"sort\":null,\"type\":\"quantitative\",\"field\":\"cycle\",\"scale\":{\"type\":\"linear\",\"zero\":false}},\"y\":{\"sort\":null,\"type\":\"quantitative\",\"field\":\"SOH\",\"scale\":{\"type\":\"linear\",\"zero\":false}},\"color\":{\"sort\":null,\"type\":\"nominal\",\"field\":\"type\",\"scale\":{\"type\":\"linear\",\"zero\":false}}}}\"\"\")"
   ]
  },
  {
   "cell_type": "code",
   "execution_count": null,
   "metadata": {
    "cell_id": "aab8762f6f8f4b0f90ddffbe3fb9adc8",
    "deepnote_cell_type": "code",
    "deepnote_to_be_reexecuted": true,
    "source_hash": "b623e53d",
    "tags": []
   },
   "outputs": [],
   "source": []
  },
  {
   "cell_type": "markdown",
   "metadata": {
    "cell_id": "b9081ba5cd7d4686998ddcd0433e0a75",
    "deepnote_cell_type": "text-cell-h2",
    "formattedRanges": [],
    "is_collapsed": false,
    "tags": []
   },
   "source": [
    "## Modelling "
   ]
  },
  {
   "cell_type": "code",
   "execution_count": null,
   "metadata": {
    "cell_id": "5c50e253c3e8497883801dbfdf15846b",
    "deepnote_cell_type": "code",
    "deepnote_to_be_reexecuted": true,
    "execution_millis": 2,
    "execution_start": 1664152831430,
    "source_hash": "c9409d65",
    "tags": []
   },
   "outputs": [],
   "source": [
    "from sklearn import linear_model \n",
    "from sklearn.metrics import mean_squared_error"
   ]
  },
  {
   "cell_type": "code",
   "execution_count": null,
   "metadata": {
    "cell_id": "c7749f43ef854ce5aff2d9bbe9bf04f7",
    "deepnote_cell_type": "code",
    "deepnote_to_be_reexecuted": true,
    "execution_millis": 2,
    "execution_start": 1664153430652,
    "source_hash": "b458f32a",
    "tags": []
   },
   "outputs": [],
   "source": [
    "def transf(x):\n",
    "    x = 0.999 * (x + 0.001) / 1.001\n",
    "    return np.log(x/ (1 - x)) \n",
    "def inv_transf(x):\n",
    "    x = np.exp(x)/ (1 + np.exp(x)) \n",
    "    return (x * 1.001 / 0.999) - 0.001"
   ]
  },
  {
   "cell_type": "code",
   "execution_count": null,
   "metadata": {
    "cell_id": "0a3b9e37651b4677a1ed562a04953ffd",
    "deepnote_cell_type": "code",
    "deepnote_to_be_reexecuted": true,
    "execution_millis": 23,
    "execution_start": 1664151488598,
    "source_hash": "b49917b",
    "tags": []
   },
   "outputs": [],
   "source": [
    "dff[\"y\"] = transf(dff[\"SOCp\"]) "
   ]
  },
  {
   "cell_type": "code",
   "execution_count": null,
   "metadata": {
    "cell_id": "2d0cc3cc777745949ddf339df91fb4f5",
    "deepnote_cell_type": "code",
    "deepnote_to_be_reexecuted": true,
    "execution_millis": 907,
    "execution_start": 1664151501361,
    "source_hash": "e9fb6f1",
    "tags": []
   },
   "outputs": [],
   "source": [
    "dff[\"y\"].min(), dff[\"y\"].max()"
   ]
  },
  {
   "cell_type": "code",
   "execution_count": null,
   "metadata": {
    "cell_id": "d1531161785547eba57a55685fcbebc7",
    "deepnote_cell_type": "code",
    "deepnote_to_be_reexecuted": true,
    "execution_millis": 2,
    "execution_start": 1664152239577,
    "source_hash": "bf2a3508",
    "tags": []
   },
   "outputs": [],
   "source": [
    "def feats(df):\n",
    "    df[\"v2\"] = df[\"v\"]**2\n",
    "    df[\"v3\"] = df[\"v\"]**3\n",
    "    return df "
   ]
  },
  {
   "cell_type": "code",
   "execution_count": null,
   "metadata": {
    "cell_id": "3b6288b4dbda4fd69d5ab29da1d0ba4f",
    "deepnote_cell_type": "code",
    "deepnote_to_be_reexecuted": true,
    "execution_millis": 106,
    "execution_start": 1664152240831,
    "source_hash": "92832ab4",
    "tags": []
   },
   "outputs": [],
   "source": [
    "dff = feats(dff) "
   ]
  },
  {
   "cell_type": "code",
   "execution_count": null,
   "metadata": {
    "cell_id": "06a51778017047dfb8e45842a9d16013",
    "deepnote_cell_type": "code",
    "deepnote_to_be_reexecuted": true,
    "source_hash": "6fa9903",
    "tags": []
   },
   "outputs": [],
   "source": [
    "dff[\"type\"].unique()"
   ]
  },
  {
   "cell_type": "code",
   "execution_count": null,
   "metadata": {
    "cell_id": "10559bd71a00434493eb66cb6bacfac9",
    "deepnote_cell_type": "code",
    "deepnote_to_be_reexecuted": true,
    "execution_millis": 2,
    "execution_start": 1664152824398,
    "source_hash": "9dae432c",
    "tags": []
   },
   "outputs": [],
   "source": [
    "def modelize(df, typ, n):\n",
    "    df_train = dff[(dff[\"cycle\"] < n) & (dff[\"type\"] == typ)] \n",
    "    df_test = dff[(dff[\"cycle\"] >= n) & (dff[\"type\"] == typ)] \n",
    "    model = linear_model.LinearRegression()  \n",
    "    X = df_train[[\"v\", \"v2\", \"v3\"]].to_numpy()\n",
    "    y = df_train[\"y\"].to_numpy()\n",
    "    X_ = df_test[[\"v\", \"v2\", \"v3\"]].to_numpy()\n",
    "    y_ = df_test[\"y\"].to_numpy()\n",
    "    model.fit(X, y) \n",
    "    sc_tr = mean_squared_error(y, model.predict(X)) \n",
    "    sc_ts = mean_squared_error(y_, model.predict(X_)) \n",
    "    print(\"Train score: \", sc_tr) \n",
    "    print(\"Test score: \", sc_ts) \n",
    "    print(\"Train R2: \", model.score(X,y)) \n",
    "    print(\"Test R2: \", model.score(X_,y_)) \n",
    "    return model "
   ]
  },
  {
   "cell_type": "code",
   "execution_count": null,
   "metadata": {
    "cell_id": "0058f2419c4941b69b99acb838ec1c42",
    "deepnote_cell_type": "code",
    "deepnote_to_be_reexecuted": true,
    "execution_millis": 2649,
    "execution_start": 1664153536611,
    "source_hash": "e8491b3b",
    "tags": []
   },
   "outputs": [],
   "source": [
    "models = {}\n",
    "dff[\"estSOC\"] = 0\n",
    "for tp in dff[\"type\"].unique():\n",
    "    print(\"Type is \", tp)\n",
    "    model = modelize(dff, tp, 1) \n",
    "    models[tp] = model  \n",
    "    yp = model.predict(dff.loc[dff[\"type\"] == tp, [\"v\", \"v2\", \"v3\"]].to_numpy())\n",
    "    dff.loc[dff[\"type\"] == tp, \"estSOC\"] = inv_transf(yp)   "
   ]
  },
  {
   "cell_type": "code",
   "execution_count": null,
   "metadata": {
    "cell_id": "540d3dc74e1f4b19af13fa2f17536ba7",
    "deepnote_cell_type": "visualization",
    "deepnote_to_be_reexecuted": true,
    "deepnote_variable_name": "dff",
    "deepnote_visualization_spec": {
     "$schema": "https://vega.github.io/schema/vega-lite/v4.json",
     "autosize": {
      "type": "fit"
     },
     "data": {
      "name": "placeholder"
     },
     "encoding": {
      "color": {
       "field": "type",
       "scale": {
        "type": "linear",
        "zero": false
       },
       "sort": null,
       "type": "nominal"
      },
      "x": {
       "field": "v",
       "scale": {
        "type": "linear",
        "zero": false
       },
       "sort": null,
       "type": "quantitative"
      },
      "y": {
       "field": "estSOC",
       "scale": {
        "type": "linear",
        "zero": false
       },
       "sort": null,
       "type": "quantitative"
      }
     },
     "height": 220,
     "mark": {
      "tooltip": true,
      "type": "point"
     }
    },
    "execution_millis": 293,
    "execution_start": 1664153556972,
    "source_hash": "6477d879"
   },
   "outputs": [],
   "source": [
    "_deepnote_run_altair(dff, \"\"\"{\"data\":{\"name\":\"placeholder\"},\"mark\":{\"type\":\"point\",\"tooltip\":true},\"height\":220,\"$schema\":\"https://vega.github.io/schema/vega-lite/v4.json\",\"autosize\":{\"type\":\"fit\"},\"encoding\":{\"x\":{\"sort\":null,\"type\":\"quantitative\",\"field\":\"v\",\"scale\":{\"type\":\"linear\",\"zero\":false}},\"y\":{\"sort\":null,\"type\":\"quantitative\",\"field\":\"estSOC\",\"scale\":{\"type\":\"linear\",\"zero\":false}},\"color\":{\"sort\":null,\"type\":\"nominal\",\"field\":\"type\",\"scale\":{\"type\":\"linear\",\"zero\":false}}}}\"\"\")"
   ]
  },
  {
   "cell_type": "code",
   "execution_count": null,
   "metadata": {
    "cell_id": "a008913b28b84b4eab8ba5c9339faf3f",
    "deepnote_cell_type": "code",
    "deepnote_to_be_reexecuted": true,
    "execution_millis": 15,
    "execution_start": 1664153766296,
    "source_hash": "ec9cc59a",
    "tags": []
   },
   "outputs": [],
   "source": [
    "dff[\"err\"] = (dff[\"estSOC\"] - dff[\"SOCp\"])"
   ]
  },
  {
   "cell_type": "code",
   "execution_count": null,
   "metadata": {
    "cell_id": "f8ba8da3900f4d2b8709a156f052432b",
    "deepnote_cell_type": "code",
    "deepnote_to_be_reexecuted": true,
    "source_hash": "71894a00",
    "tags": []
   },
   "outputs": [],
   "source": [
    "#dff[\"err_origin\"] = (dff[\"estSOC\"] - dff[\"SOCp\"]) "
   ]
  },
  {
   "cell_type": "code",
   "execution_count": null,
   "metadata": {
    "cell_id": "98f90ccc61f84c79a77486cfdd156bfe",
    "deepnote_cell_type": "visualization",
    "deepnote_to_be_reexecuted": true,
    "deepnote_variable_name": "dff",
    "deepnote_visualization_spec": {
     "$schema": "https://vega.github.io/schema/vega-lite/v4.json",
     "autosize": {
      "type": "fit"
     },
     "data": {
      "name": "placeholder"
     },
     "encoding": {
      "color": {
       "field": "type",
       "scale": {
        "type": "linear",
        "zero": false
       },
       "sort": null,
       "type": "nominal"
      },
      "x": {
       "field": "SOCp",
       "scale": {
        "type": "linear",
        "zero": false
       },
       "sort": null,
       "type": "quantitative"
      },
      "y": {
       "field": "err",
       "scale": {
        "type": "linear",
        "zero": false
       },
       "sort": null,
       "type": "quantitative"
      }
     },
     "height": 220,
     "mark": {
      "tooltip": true,
      "type": "point"
     }
    },
    "execution_millis": 375,
    "execution_start": 1664153775066,
    "source_hash": "65dbdbc6"
   },
   "outputs": [],
   "source": [
    "_deepnote_run_altair(dff, \"\"\"{\"data\":{\"name\":\"placeholder\"},\"mark\":{\"type\":\"point\",\"tooltip\":true},\"height\":220,\"$schema\":\"https://vega.github.io/schema/vega-lite/v4.json\",\"autosize\":{\"type\":\"fit\"},\"encoding\":{\"x\":{\"sort\":null,\"type\":\"quantitative\",\"field\":\"SOCp\",\"scale\":{\"type\":\"linear\",\"zero\":false}},\"y\":{\"sort\":null,\"type\":\"quantitative\",\"field\":\"err\",\"scale\":{\"type\":\"linear\",\"zero\":false}},\"color\":{\"sort\":null,\"type\":\"nominal\",\"field\":\"type\",\"scale\":{\"type\":\"linear\",\"zero\":false}}}}\"\"\")"
   ]
  },
  {
   "cell_type": "code",
   "execution_count": null,
   "metadata": {
    "cell_id": "703f8fe2c52c4e059184c10f2d95ac4c",
    "deepnote_cell_type": "code",
    "deepnote_to_be_reexecuted": true,
    "execution_millis": 0,
    "execution_start": 1664155288935,
    "source_hash": "1a8ad26d",
    "tags": []
   },
   "outputs": [],
   "source": [
    "def lic(x):\n",
    "    return x[0]"
   ]
  },
  {
   "cell_type": "code",
   "execution_count": null,
   "metadata": {
    "cell_id": "8ce54b3a012b4ae69968fa7974560524",
    "deepnote_cell_type": "code",
    "deepnote_to_be_reexecuted": true,
    "execution_millis": 1,
    "execution_start": 1664155367548,
    "source_hash": "4013152",
    "tags": []
   },
   "outputs": [],
   "source": [
    "lic = lambda x, y: x + y"
   ]
  },
  {
   "cell_type": "code",
   "execution_count": null,
   "metadata": {
    "cell_id": "c43d9dad02464560a8c6b4b33841a996",
    "deepnote_cell_type": "code",
    "deepnote_to_be_reexecuted": true,
    "execution_millis": 3,
    "execution_start": 1664155371815,
    "source_hash": "3852883f",
    "tags": []
   },
   "outputs": [],
   "source": [
    "lic(3,4) "
   ]
  },
  {
   "cell_type": "markdown",
   "metadata": {
    "created_in_deepnote_cell": true,
    "deepnote_cell_type": "markdown",
    "tags": []
   },
   "source": [
    "<a style='text-decoration:none;line-height:16px;display:flex;color:#5B5B62;padding:10px;justify-content:end;' href='https://deepnote.com?utm_source=created-in-deepnote-cell&projectId=e75d5b8b-47f7-4be6-badd-a468417d5a17' target=\"_blank\">\n",
    "<img alt='Created in deepnote.com' style='display:inline;max-height:16px;margin:0px;margin-right:7.5px;' src='data:image/svg+xml;base64,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' > </img>\n",
    "Created in <span style='font-weight:600;margin-left:4px;'>Deepnote</span></a>"
   ]
  }
 ],
 "metadata": {
  "deepnote": {},
  "deepnote_execution_queue": [],
  "deepnote_notebook_id": "4e87461bef6c4261b9b25df127dbe3df",
  "kernelspec": {
   "display_name": "Python 3",
   "language": "python",
   "name": "python3"
  },
  "language_info": {
   "codemirror_mode": {
    "name": "ipython",
    "version": 3
   },
   "file_extension": ".py",
   "mimetype": "text/x-python",
   "name": "python",
   "nbconvert_exporter": "python",
   "pygments_lexer": "ipython3",
   "version": "3.8.3"
  },
  "vscode": {
   "interpreter": {
    "hash": "910c5ef5458537f78466d571cf727562f30cfc74f8299aa685b553040102177f"
   }
  }
 },
 "nbformat": 4,
 "nbformat_minor": 1
}
